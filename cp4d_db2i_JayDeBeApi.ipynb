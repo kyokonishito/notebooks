{
 "cells": [
  {
   "cell_type": "markdown",
   "metadata": {
    "id": "37944b02260b4c02ac5cd94074dd5011"
   },
   "source": [
    " # CP4DのWatson Studio NotebookからJayDeBeApiでDb2 for iに接続\n",
    " "
   ]
  },
  {
   "cell_type": "markdown",
   "metadata": {
    "id": "4538321c8dba43038e231a900d5a199b"
   },
   "source": [
    "## 1.  Db2 for i JDBCドライバ jt400.jar の入手\n",
    "\n",
    "https://sourceforge.net/projects/jt400/files/JTOpen-full/ から入手したいversionの文字列をversionに代入してください。\n",
    "\n",
    "以下はvesion = \"11.1\"としています。必要に応じて変更後以下実行します。"
   ]
  },
  {
   "cell_type": "code",
   "execution_count": null,
   "metadata": {
    "id": "e0a568e0376d40b1890b7eb629833f48"
   },
   "outputs": [],
   "source": [
    "vesion = \"11.1\"\n",
    "\n",
    "zip_file = \"jtopen_{0}.zip\".format(vesion.replace('.', '_'))\n",
    "\n",
    "# ダウンロードURLの作成\n",
    "download_url = \"https://sourceforge.net/projects/jt400/files/JTOpen-full/{0}/{1}/download/\".format( vesion, zip_file)\n",
    "print(download_url)\n",
    "\n",
    "# ダウンロード\n",
    "!wget -nc --content-disposition {download_url}\n",
    "\n",
    "#  jt400.jarのみcurrent dirに解凍\n",
    "!unzip -p {zip_file}  lib/jt400.jar > jt400.jar\n",
    "\n",
    "# 確認\n",
    "!ls -la"
   ]
  },
  {
   "cell_type": "markdown",
   "metadata": {
    "id": "fb64e5cdc8b34e3cb363e68a7947592f"
   },
   "source": [
    "# 2. JayDeBeApiのインストール\n",
    "pipで[JayDeBeApi](https://github.com/baztian/jaydebeapi)をインストールします。以下実行します。\n"
   ]
  },
  {
   "cell_type": "code",
   "execution_count": null,
   "metadata": {
    "id": "1298d7f54f8f4416bb518795cfe6613d"
   },
   "outputs": [],
   "source": [
    "!pip install JayDeBeApi"
   ]
  },
  {
   "cell_type": "markdown",
   "metadata": {
    "id": "292f433bd48e4c60896532bfdcc2c37e"
   },
   "source": [
    "# 3. Db2 for iに接続\n",
    "\n",
    "## 3.1 接続情報をセット\n",
    "自分のDbの接続情報に上書きした上で実行します。"
   ]
  },
  {
   "cell_type": "code",
   "execution_count": null,
   "metadata": {
    "id": "9503de5f627e44dd91a5ca881bbdeb06"
   },
   "outputs": [],
   "source": [
    "dbname = 'xxxxxxxx'\n",
    "host='xxx.xx.xx.xxx'\n",
    "port='xxx'\n",
    "uid='xxxxxx'\n",
    "pwd='xxxxxxxx'"
   ]
  },
  {
   "cell_type": "markdown",
   "metadata": {
    "id": "cc4f0dd3f5e54f8d848a76933939d842"
   },
   "source": [
    "## 3.2 Db2へ接続\n",
    "\n",
    "以下を実行します。特にエラーがなければ接続成功です!"
   ]
  },
  {
   "cell_type": "code",
   "execution_count": null,
   "metadata": {
    "id": "810beaf92c4c4a0c891f189be64d09e1"
   },
   "outputs": [],
   "source": [
    "import jaydebeapi\n",
    "\n",
    "conn = jaydebeapi.connect(\"com.ibm.as400.access.AS400JDBCDriver\",\n",
    "                          \"jdbc:as400://{0}/{1}\".format( host, dbname), \n",
    "                          [\"{0}\".format( uid), \"{0}\".format( pwd)], \n",
    "                          \"./jt400.jar\",)"
   ]
  },
  {
   "cell_type": "markdown",
   "metadata": {
    "id": "ea620447a25b49cf899df83fdbda80c4"
   },
   "source": [
    "# 4. テーブルの中身の確認\n",
    "pandasでテーブルの中身を確認してみます。\n",
    "\n",
    "自分のDbで実行可能なSQLに上書きした上で実行します。結果が表示されればOKです。\n"
   ]
  },
  {
   "cell_type": "code",
   "execution_count": null,
   "metadata": {
    "id": "0f0296ef1e0c4cd59f0a04eb18f80b48"
   },
   "outputs": [],
   "source": [
    "import pandas as pd\n",
    "\n",
    "# 以下を自分のDbで実行可能なSQLに上書き\n",
    "sql = \"select * from SAMPLE.TABLE_A fetch first 100 rows only\" \n",
    "\n",
    "# queryの実行、結果の表示\n",
    "df = pd.read_sql(sql, conn)\n",
    "df"
   ]
  },
  {
   "cell_type": "markdown",
   "metadata": {
    "id": "d169aa281ceb474d833c3564a784a50f"
   },
   "source": [
    "# 5. Db接続のCLOSE\n",
    "\n",
    "以下実行します"
   ]
  },
  {
   "cell_type": "code",
   "execution_count": null,
   "metadata": {
    "id": "4031a537b7fe4615b29b357f5e33323f"
   },
   "outputs": [],
   "source": [
    "conn.close()"
   ]
  }
 ],
 "metadata": {
  "kernelspec": {
   "display_name": "Python 3.9",
   "language": "python",
   "name": "python3"
  },
  "language_info": {
   "codemirror_mode": {
    "name": "ipython",
    "version": 3
   },
   "file_extension": ".py",
   "mimetype": "text/x-python",
   "name": "python",
   "nbconvert_exporter": "python",
   "pygments_lexer": "ipython3",
   "version": "3.9.12"
  }
 },
 "nbformat": 4,
 "nbformat_minor": 1
}
