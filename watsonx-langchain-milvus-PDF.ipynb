{
 "cells": [
  {
   "cell_type": "markdown",
   "metadata": {
    "collapsed": true
   },
   "source": [
    "# watsonx.aiのLLMでLangChainとMilvusを使ってPDFの内容をQ&Aしてみた(=RAG)\n",
    "\n",
    "https://qiita.com/nishikyon/items/8fa659d6392357925a92/"
   ]
  },
  {
   "cell_type": "markdown",
   "metadata": {},
   "source": [
    "# 必要なライブラリのインストール"
   ]
  },
  {
   "cell_type": "code",
   "execution_count": null,
   "metadata": {},
   "outputs": [],
   "source": [
    "# 既にインストール済みであればはこのコードの実行は不要です\n",
    "\n",
    "!pip install 'ibm-watsonx-ai>=1.1.15'\n",
    "!pip install 'langchain>=0.3.3'\n",
    "!pip install 'langchain-ibm>=0.3.1'\n",
    "!pip install 'langchain-huggingface>=0.1.0'\n",
    "!pip install 'langchain-milvus>=0.1.6'\n",
    "!pip install 'langchain-community>=0.3.2'\n",
    "!pip install 'pypdf>=5.0.0'\n",
    "!pip install 'pymilvus>=2.4.8'"
   ]
  },
  {
   "cell_type": "markdown",
   "metadata": {},
   "source": [
    "**インストール終了後、一旦カーネルを再起動してください**"
   ]
  },
  {
   "cell_type": "markdown",
   "metadata": {},
   "source": [
    "#  (オプション)LangChainで使えるLLMの確認\n"
   ]
  },
  {
   "cell_type": "code",
   "execution_count": null,
   "metadata": {},
   "outputs": [],
   "source": [
    "from ibm_watsonx_ai.foundation_models.utils.enums import ModelTypes\n",
    "\n",
    "print([model.name for model in ModelTypes])"
   ]
  },
  {
   "cell_type": "markdown",
   "metadata": {},
   "source": [
    "# LangChainで使えるLLMの取得"
   ]
  },
  {
   "cell_type": "code",
   "execution_count": 2,
   "metadata": {},
   "outputs": [],
   "source": [
    "from ibm_watsonx_ai.metanames import GenTextParamsMetaNames as GenParams\n",
    "from langchain_ibm import WatsonxLLM\n",
    "\n",
    "watsonx_url = \"https://jp-tok.ml.cloud.ibm.com\" # watsonx.aiのAuthentication用のエンドポイントのURL\n",
    "apikey = \"<APIキー>\"\n",
    "project_id = \"<PROJECT ID>\"\n",
    "\n",
    "# 使用するLLMのパラメータ\n",
    "generate_params = {\n",
    "    GenParams.MAX_NEW_TOKENS: 500,\n",
    "    GenParams.MIN_NEW_TOKENS: 0,\n",
    "    GenParams.DECODING_METHOD: \"greedy\",\n",
    "    GenParams.REPETITION_PENALTY: 1\n",
    "}\n",
    "\n",
    "# LangChainで使うllm\n",
    "custom_llm = WatsonxLLM(\n",
    "    model_id=\"ibm/granite-8b-japanese\", #使用するLLM名\n",
    "    url=watsonx_url,\n",
    "    apikey=apikey,\n",
    "    project_id=project_id,\n",
    "    params=generate_params,\n",
    ")"
   ]
  },
  {
   "cell_type": "markdown",
   "metadata": {},
   "source": [
    "# そのまま実行"
   ]
  },
  {
   "cell_type": "code",
   "execution_count": null,
   "metadata": {},
   "outputs": [],
   "source": [
    "result=custom_llm.invoke(\"IBM Db2 on Cloudの特徴は?\")\n",
    "print(result)"
   ]
  },
  {
   "cell_type": "markdown",
   "metadata": {},
   "source": [
    "# PDFの取得"
   ]
  },
  {
   "cell_type": "code",
   "execution_count": null,
   "metadata": {},
   "outputs": [],
   "source": [
    "# Milvusに保存した内容を使う場合はこのコードの実行は不要です\n",
    "\n",
    "!wget https://files.speakerdeck.com/presentations/cc34f85fe9b5467d8782a41e5fa39b78/Dojo_Db2RESTAPI_20230727_%E9%85%8D%E5%B8%83%E7%94%A8.pdf"
   ]
  },
  {
   "cell_type": "markdown",
   "metadata": {},
   "source": [
    "# PDFLoaderの作成"
   ]
  },
  {
   "cell_type": "code",
   "execution_count": 4,
   "metadata": {},
   "outputs": [],
   "source": [
    "# Milvusに保存した内容を使う場合はこのコードの実行は不要です\n",
    "\n",
    "from langchain.document_loaders import PyPDFLoader\n",
    "\n",
    "loader = PyPDFLoader(\"./Dojo_Db2RESTAPI_20230727_配布用.pdf\") #ダウンロードしたPDFを指定"
   ]
  },
  {
   "cell_type": "markdown",
   "metadata": {},
   "source": [
    "#  PDF ドキュメントの内容をページで分割する"
   ]
  },
  {
   "cell_type": "code",
   "execution_count": 5,
   "metadata": {},
   "outputs": [],
   "source": [
    "# Milvusに保存した内容を使う場合はこのコードの実行は不要です\n",
    "\n",
    "pages = loader.load_and_split() "
   ]
  },
  {
   "cell_type": "markdown",
   "metadata": {},
   "source": [
    "#  embeddingsの取得"
   ]
  },
  {
   "cell_type": "code",
   "execution_count": 6,
   "metadata": {},
   "outputs": [],
   "source": [
    "from langchain_huggingface import HuggingFaceEmbeddings\n",
    "\n",
    "embeddings = HuggingFaceEmbeddings(model_name=\"intfloat/multilingual-e5-large\")"
   ]
  },
  {
   "cell_type": "markdown",
   "metadata": {},
   "source": [
    "# MilvusにデータをInsert"
   ]
  },
  {
   "cell_type": "markdown",
   "metadata": {},
   "source": [
    "## Milvusへの接続情報を`connection_args`に辞書形式でセットします"
   ]
  },
  {
   "cell_type": "code",
   "execution_count": null,
   "metadata": {},
   "outputs": [],
   "source": [
    "my_connection_args ={\n",
    " 'uri':'http://localhost:19530', \n",
    "}"
   ]
  },
  {
   "cell_type": "code",
   "execution_count": 8,
   "metadata": {},
   "outputs": [],
   "source": [
    "my_connection_args ={\n",
    " 'uri':'https://xxxxxx.ibm.com:35382', \n",
    " 'token':'yyyyyyyy:zzzzzzzz',\n",
    " # 'server_pem_path':'/Users/nishito/presto.crt',  # watsonx.data SaaS Milvusは不要\n",
    " # 'server_name':'watsonxdata'　# watsonx.data SaaS Milvusは不要\n",
    "}"
   ]
  },
  {
   "cell_type": "markdown",
   "metadata": {},
   "source": [
    "## Documentをベクトル化して保存 (Milvus.from_documents)"
   ]
  },
  {
   "cell_type": "code",
   "execution_count": 10,
   "metadata": {},
   "outputs": [],
   "source": [
    "# Milvusに保存した内容を使う場合はこのコードの実行は不要です\n",
    "from langchain_milvus import Milvus\n",
    "\n",
    "vector_db = Milvus.from_documents(\n",
    "    pages,\n",
    "    embeddings,\n",
    "    connection_args=my_connection_args,\n",
    "    drop_old=True, #追加の場合はここをFalseに\n",
    "    collection_name = 'LangChainCollection'\n",
    ")"
   ]
  },
  {
   "cell_type": "markdown",
   "metadata": {},
   "source": [
    "### Milvusへの接続(DBにInsert不要の場合)"
   ]
  },
  {
   "cell_type": "code",
   "execution_count": 11,
   "metadata": {},
   "outputs": [],
   "source": [
    "from langchain_milvus import Milvus\n",
    "\n",
    "vector_db = Milvus(\n",
    "    embeddings,\n",
    "    connection_args=my_connection_args,\n",
    "    collection_name = 'LangChainCollection'\n",
    ")"
   ]
  },
  {
   "cell_type": "markdown",
   "metadata": {},
   "source": [
    "# テキスト類似検索してみます"
   ]
  },
  {
   "cell_type": "code",
   "execution_count": null,
   "metadata": {},
   "outputs": [],
   "source": [
    "query = \"IBM TechXchange Japanとは?\"\n",
    "docs = vector_db.similarity_search(query)\n",
    "\n",
    "for doc in docs:\n",
    "    print({\"content\": doc.page_content[0:100], \"metadata\": doc.metadata} )"
   ]
  },
  {
   "cell_type": "code",
   "execution_count": null,
   "metadata": {},
   "outputs": [],
   "source": [
    "# 取得数をkで指定\n",
    "docs = vector_db.similarity_search(query, k=1)\n",
    "\n",
    "for doc in docs:\n",
    "    print({\"content\": doc.page_content[0:100], \"metadata\": doc.metadata} )"
   ]
  },
  {
   "cell_type": "code",
   "execution_count": null,
   "metadata": {},
   "outputs": [],
   "source": [
    "# ススコアは小さいほど(0に近いほど)類似度が高いです。\n",
    "query = \"IBM TechXchange Japanとは?\"\n",
    "docs = vector_db.similarity_search_with_score(query)\n",
    "for doc, score in docs:\n",
    "    print({\"score\": score, \"content\": doc.page_content[0:100], \"metadata\": doc.metadata} )"
   ]
  },
  {
   "cell_type": "markdown",
   "metadata": {},
   "source": [
    "# watsonx.aiのLLMでLangChainとMilvusを使ってPDFの内容をQ&A"
   ]
  },
  {
   "cell_type": "markdown",
   "metadata": {},
   "source": [
    "## まずはプロンプトなしでQ&A"
   ]
  },
  {
   "cell_type": "code",
   "execution_count": null,
   "metadata": {},
   "outputs": [],
   "source": [
    "from langchain.chains import RetrievalQA\n",
    "\n",
    "retriever = vector_db.as_retriever()\n",
    "qa = RetrievalQA.from_chain_type(llm=custom_llm, chain_type=\"stuff\", retriever=retriever)\n",
    "query = \"IBM TechXchange Japanとは?\" \n",
    "answer = qa.invoke(query)\n",
    "print(answer['result'])"
   ]
  },
  {
   "cell_type": "code",
   "execution_count": null,
   "metadata": {},
   "outputs": [],
   "source": [
    "query = \"日本の首都は?\" \n",
    "answer = qa.invoke(query)\n",
    "print(answer['result'])"
   ]
  },
  {
   "cell_type": "markdown",
   "metadata": {},
   "source": [
    "## プロンプトを作ってQ&A"
   ]
  },
  {
   "cell_type": "markdown",
   "metadata": {},
   "source": [
    "### RAG chainの作成　"
   ]
  },
  {
   "cell_type": "code",
   "execution_count": 17,
   "metadata": {},
   "outputs": [],
   "source": [
    "from langchain.schema.runnable import RunnablePassthrough\n",
    "from langchain.prompts import PromptTemplate\n",
    "\n",
    "template = \"\"\"以下のcontextのみを利用して、ですます調で丁寧に回答してください。contextと質問が関連していない場合は、「不明です。」と回答お願いします。\n",
    "context: {context}\n",
    "質問: {question}\n",
    "回答:\"\"\"\n",
    "\n",
    "rag_prompt = PromptTemplate.from_template(template)\n",
    "\n",
    "rag_chain = (\n",
    "    {\"context\": retriever, \"question\": RunnablePassthrough()}\n",
    "    | rag_prompt\n",
    "    | custom_llm\n",
    ")"
   ]
  },
  {
   "cell_type": "markdown",
   "metadata": {},
   "source": [
    "### 質問してみます"
   ]
  },
  {
   "cell_type": "code",
   "execution_count": null,
   "metadata": {},
   "outputs": [],
   "source": [
    "print(rag_chain.invoke(\"日本の首都は？\"))"
   ]
  },
  {
   "cell_type": "code",
   "execution_count": null,
   "metadata": {},
   "outputs": [],
   "source": [
    "print(rag_chain.invoke(\"IBM TechXchange Japanとは？\"))"
   ]
  },
  {
   "cell_type": "markdown",
   "metadata": {},
   "source": [
    "### プロンプトちょっと変えてみます"
   ]
  },
  {
   "cell_type": "code",
   "execution_count": 21,
   "metadata": {},
   "outputs": [],
   "source": [
    "from langchain.schema.runnable import RunnablePassthrough\n",
    "from langchain.prompts import PromptTemplate\n",
    "\n",
    "template2 = \"\"\"<|system|>\n",
    "あなたはIBMが開発したAI言語モデル、Granite Chatです。あなたは慎重なアシスタントです。あなたは慎重に指示に従います。あなたは親切で無害で、倫理的なガイドラインに従い、前向きな行動ができます。\n",
    "<|user|>\n",
    "あなたは、特別なRetrieval Augmented Generation（RAG）アシスタントとして機能するように設計されたAI言語モデルです。応答を生成するときは、正しさを優先します。つまり、文脈とユーザーのクエリが与えられたときに応答が正しく、文脈に根拠があることを確認します。さらに、レスポンスが与えられたドキュメントまたはコンテキストによってサポートされていることを確認してください。コンテキストやドキュメントを使用して質問に答えることができない場合、次のレスポンスを出力します: 'わかりません。' あなたの回答が質問に関連していることを常に確認してください。説明が必要な場合は、まず説明や理由を述べ、それから最終的な答えを述べてください。\n",
    "[文書]\n",
    "{context}\n",
    "[質問]\n",
    "{question}\n",
    "<|assistant|>\"\"\"\n",
    "\n",
    "rag_prompt = PromptTemplate.from_template(template2)\n",
    "\n",
    "rag_chain = (\n",
    "    {\"context\": retriever, \"question\": RunnablePassthrough()}\n",
    "    | rag_prompt\n",
    "    | custom_llm\n",
    ")"
   ]
  },
  {
   "cell_type": "code",
   "execution_count": null,
   "metadata": {},
   "outputs": [],
   "source": [
    "print(rag_chain.invoke(\"IBM TechXchange Japanとは？\"))"
   ]
  },
  {
   "cell_type": "code",
   "execution_count": null,
   "metadata": {},
   "outputs": [],
   "source": [
    "print(rag_chain.invoke(\"日本の首都は？\"))"
   ]
  }
 ],
 "metadata": {
  "kernelspec": {
   "display_name": ".venv",
   "language": "python",
   "name": "python3"
  },
  "language_info": {
   "codemirror_mode": {
    "name": "ipython",
    "version": 3
   },
   "file_extension": ".py",
   "mimetype": "text/x-python",
   "name": "python",
   "nbconvert_exporter": "python",
   "pygments_lexer": "ipython3",
   "version": "3.11.4"
  }
 },
 "nbformat": 4,
 "nbformat_minor": 1
}
