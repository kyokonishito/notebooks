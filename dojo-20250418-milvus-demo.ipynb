{
 "cells": [
  {
   "cell_type": "markdown",
   "metadata": {
    "collapsed": true,
    "id": "fa4cb8a6-b835-4534-b12d-6bfa580a28de",
    "jupyter": {
     "outputs_hidden": true
    }
   },
   "source": [
    "# watsonx.data上のベクトル・データベース Milvusを見てみよう\n",
    "\n",
    "2025/04/18 [IBM Database Dojo 2025 watsonx.data上のベクトル・データベース Milvusを見てみよう](https://ibm-developer.connpass.com/event/351549/)のデモで使用したnotebookです。\n",
    "\n",
    "デモでは「見てみる」ことが目的のため、プログラミングの細い説明はしません。\n"
   ]
  },
  {
   "cell_type": "markdown",
   "metadata": {
    "id": "a7ea8012-e066-43d7-9cd6-8da65af30c8f"
   },
   "source": [
    "# 前準備\n",
    "\n",
    "必要に応じてライブラリーをインストールしてください"
   ]
  },
  {
   "cell_type": "code",
   "execution_count": null,
   "metadata": {
    "id": "6f4f6bb6-61b0-49b3-8fd5-7b192035b285"
   },
   "outputs": [],
   "source": [
    "# !pip install -U pymilvus\n",
    "# !pip install -Uq 'langchain-ibm>=0.3.1'\n",
    "# !pip install -Uq 'ibm-watsonx-ai>=1.1.15'"
   ]
  },
  {
   "cell_type": "markdown",
   "metadata": {},
   "source": [
    "# 2. ベクトル・データを見てみよう"
   ]
  },
  {
   "cell_type": "markdown",
   "metadata": {
    "id": "142ef72c-366d-496c-a3ea-85d100365109"
   },
   "source": [
    "##  文章のベクトル化\n",
    "\n",
    "ここではIBMが提供するGraniteのgranite-embedding-278m-multilingualを使います(次元数768)\n",
    "\n",
    "https://dataplatform.cloud.ibm.com/docs/content/wsj/analyze-data/fm-models-embed.html?context=wx&locale=ja#granite-278m-multilingual\n",
    "\n",
    "(watsonx.dataが必要です)"
   ]
  },
  {
   "cell_type": "markdown",
   "metadata": {
    "id": "d82b9c59-124a-418c-844a-488dc4661252"
   },
   "source": [
    "### Embeddingモデル取得"
   ]
  },
  {
   "cell_type": "markdown",
   "metadata": {},
   "source": [
    "#### watsonx.aiのapikey情報とProject idを設定"
   ]
  },
  {
   "cell_type": "markdown",
   "metadata": {},
   "source": [
    "apikey をセットしてください。\n",
    "\n",
    "IBM Cloud環境でのAPIKEYの取得方法は[こちら](https://qiita.com/nishikyon/items/fa8b951267efbe911fe7)を参考にしてください。"
   ]
  },
  {
   "cell_type": "code",
   "execution_count": null,
   "metadata": {},
   "outputs": [],
   "source": [
    "import getpass\n",
    "watsonx_ai_apikey = getpass.getpass(\"watsonx.aiのapikeyを入れてEnter Keyを押してください:\")"
   ]
  },
  {
   "cell_type": "markdown",
   "metadata": {},
   "source": [
    "watsonx.ai Studioで実行する場合は、このノートブックが実行されるプロジェクトからProject idを取得します。 \n",
    "\n",
    "watsonx.ai Studio以外で実行する場合は、Project idを入力してください。<br>\n",
    "**Hint**: project_id はプロジェクトを表示し、管理タブから project_id を取得可能です."
   ]
  },
  {
   "cell_type": "code",
   "execution_count": null,
   "metadata": {
    "id": "f9dd8af4-2dc3-454a-84b8-53631b65d806"
   },
   "outputs": [],
   "source": [
    "import os\n",
    "try:\n",
    "    project_id = os.environ[\"PROJECT_ID\"]\n",
    "except KeyError:\n",
    "    project_id = input(\"watsonx.aiのProject idを入力してください (入力後enter): \")"
   ]
  },
  {
   "cell_type": "markdown",
   "metadata": {},
   "source": [
    "watsonx.aiのAuthentication用のエンドポイントのURLの設定\n",
    "\n",
    "Waston Machine Learningのインスタンスを作成したリージョンで決まります。<br>\n",
    " https://ibm.github.io/watson-machine-learning-sdk/setup_cloud.html#authentication\n",
    "\n",
    "- Dallas: https://us-south.ml.cloud.ibm.com\n",
    "- London: https://eu-gb.ml.cloud.ibm.com\n",
    "- Frankfurt: https://eu-de.ml.cloud.ibm.com\n",
    "Tokyo: https://jp-tok.ml.cloud.ibm.com- "
   ]
  },
  {
   "cell_type": "code",
   "execution_count": null,
   "metadata": {
    "id": "d17781fc-2e88-4321-937e-686ab4de219b"
   },
   "outputs": [],
   "source": [
    "watsonx_url = \"https://us-south.ml.cloud.ibm.com\" #watsonx.aiのAuthentication用のエンドポイントのURL"
   ]
  },
  {
   "cell_type": "markdown",
   "metadata": {},
   "source": [
    "#### watsonx.aiのEmbeddingモデル取得"
   ]
  },
  {
   "cell_type": "code",
   "execution_count": null,
   "metadata": {
    "id": "7fe627fb-899d-4472-a6a3-88ff4c273d11"
   },
   "outputs": [],
   "source": [
    "# watsonx.aiのEmbeddingモデル取得\n",
    "from langchain_ibm import WatsonxEmbeddings\n",
    "from ibm_watsonx_ai.metanames import EmbedTextParamsMetaNames\n",
    "embed_params = {\n",
    "    EmbedTextParamsMetaNames.TRUNCATE_INPUT_TOKENS: 512,\n",
    "    \n",
    "    EmbedTextParamsMetaNames.RETURN_OPTIONS: {\"input_text\": True},\n",
    "}\n",
    "\n",
    "embeddings = WatsonxEmbeddings(\n",
    "    model_id=\"ibm/granite-embedding-278m-multilingual\",\n",
    "    url=watsonx_url,\n",
    "    apikey=watsonx_ai_apikey,\n",
    "    project_id=project_id\n",
    "    )"
   ]
  },
  {
   "cell_type": "markdown",
   "metadata": {
    "id": "6f53571d-6d30-48a1-acf9-5d7fedde9f89"
   },
   "source": [
    "### \"犬を飼っています\"をベクトル化"
   ]
  },
  {
   "cell_type": "code",
   "execution_count": null,
   "metadata": {
    "id": "0bdde206-22fe-4211-b4ee-494ef0638277"
   },
   "outputs": [],
   "source": [
    "vectordata_dog = embeddings.embed_query(\"犬を飼っています\")\n",
    "\n",
    "print(len(vectordata_dog)) # 配列の数　= 次元数\n",
    "# print(vectordata_dog[0:5]) # 最初の5個\n",
    "print(vectordata_dog) # 全部"
   ]
  },
  {
   "cell_type": "markdown",
   "metadata": {
    "id": "4c13721f-d668-4fd2-925f-9d69893837e2"
   },
   "source": [
    "### \"猫を飼っています\"をベクトル化"
   ]
  },
  {
   "cell_type": "code",
   "execution_count": null,
   "metadata": {
    "id": "5c6c3586-bbce-426c-8c18-24f1daf681c9"
   },
   "outputs": [],
   "source": [
    "vectordata_cat = embeddings.embed_query(\"猫を飼っています\")\n",
    "\n",
    "print(len(vectordata_cat)) # 配列の数　= 次元数\n",
    "print(vectordata_cat[0:5]) # 最初の5個\n",
    "# print(vectordata_cat) #　 全部"
   ]
  },
  {
   "cell_type": "markdown",
   "metadata": {
    "id": "0348711e-3e6b-4e8d-a914-1d778b493ac7"
   },
   "source": [
    "### \"大根を買っています\"をベクトル化"
   ]
  },
  {
   "cell_type": "code",
   "execution_count": null,
   "metadata": {
    "id": "6bf5ba70-e2a2-4da2-8257-6d5c741b1c44",
    "scrolled": true
   },
   "outputs": [],
   "source": [
    "vectordata_daikon = embeddings.embed_query(\"大根を買っています\")\n",
    "\n",
    "print(len(vectordata_daikon)) # 配列の数　= 次元数\n",
    "print(vectordata_daikon[0:5]) # 最初の5個\n",
    "# print(vectordata_daikon) # 全部"
   ]
  },
  {
   "cell_type": "markdown",
   "metadata": {
    "id": "65f25d39-8cbe-4d82-8611-324cdcaba6be"
   },
   "source": [
    "### \"何かペットを飼っていますか\"をベクトル化"
   ]
  },
  {
   "cell_type": "code",
   "execution_count": null,
   "metadata": {
    "id": "6293ba32-8119-4179-aeb0-58d6c22e87b6"
   },
   "outputs": [],
   "source": [
    "vectordata_pet_question = embeddings.embed_query(\"何かペットを飼っていますか\")\n",
    "print(len(vectordata_pet_question)) # 配列の数　= 次元数\n",
    "# print(vectordata_pet_question[0:5]) # 最初の5個\n",
    "print(vectordata_pet_question) # 全部"
   ]
  },
  {
   "cell_type": "markdown",
   "metadata": {
    "id": "1e78c290-5139-48b3-bbc1-e44613eb51fc"
   },
   "source": [
    "### \"大谷翔平の今季第1号ホームランは、2025年3月19日に東京ドームで行われたカブスとの試合でのホームランでした\"をベクトル化"
   ]
  },
  {
   "cell_type": "code",
   "execution_count": null,
   "metadata": {
    "id": "63ca55e7-268b-41e1-b427-9512a8d6a9f8",
    "scrolled": true
   },
   "outputs": [],
   "source": [
    "vectordata_ohtani = embeddings.embed_query(\"大谷翔平の今季第1号ホームランは、2025年3月19日に東京ドームで行われたカブスとの試合でのホームランでした\")\n",
    "\n",
    "print(len(vectordata_ohtani)) # 配列の数　= 次元数\n",
    "print(vectordata_ohtani[0:5]) # 最初の5個\n",
    "# print(vectordata_daikon) # 全部"
   ]
  },
  {
   "cell_type": "markdown",
   "metadata": {
    "id": "7d6a6368-08f3-431a-bbab-9329f22daa15"
   },
   "source": [
    "## 類似度を出してみる"
   ]
  },
  {
   "cell_type": "markdown",
   "metadata": {
    "id": "cc0f1992-1074-40dc-a51d-a6849a96237f"
   },
   "source": [
    "### 以下はベクトルデータからコサイン類似度を出す関数です\n",
    "(Milvus関係ない行列の計算です)\n",
    "\n",
    "1に近いほど似ています"
   ]
  },
  {
   "cell_type": "code",
   "execution_count": null,
   "metadata": {
    "id": "ed30a73e-26c3-4b2f-8115-f24996c73ec3"
   },
   "outputs": [],
   "source": [
    "from sklearn.metrics.pairwise import cosine_similarity\n",
    "import numpy as np \n",
    "\n",
    "def get_cossim_from_vector(v1,v2):\n",
    "    array_1 = np.array([v1]) \n",
    "    array_2 = np.array([v2]) \n",
    "    cos_sim = cosine_similarity(array_1 , array_2) \n",
    "    print(cos_sim) "
   ]
  },
  {
   "cell_type": "markdown",
   "metadata": {
    "id": "be72da1e-dc20-4bbe-992a-9bb35b29ecd1"
   },
   "source": [
    "### 類似度: \"犬を飼っています\"と\"猫を飼っています\""
   ]
  },
  {
   "cell_type": "code",
   "execution_count": null,
   "metadata": {
    "id": "ae7f0ae6-1b84-453b-8153-92ec886ca09b"
   },
   "outputs": [],
   "source": [
    "get_cossim_from_vector(vectordata_dog, vectordata_cat)"
   ]
  },
  {
   "cell_type": "markdown",
   "metadata": {
    "id": "2cce78ee-d654-4cc5-a424-7c8e49d18d9c"
   },
   "source": [
    "### 類似度: \"犬を飼っています\"と\"大根を買っています\""
   ]
  },
  {
   "cell_type": "code",
   "execution_count": null,
   "metadata": {
    "id": "98d73326-9d95-4131-b616-9c02eed6fce9"
   },
   "outputs": [],
   "source": [
    "get_cossim_from_vector(vectordata_dog, vectordata_daikon)"
   ]
  },
  {
   "cell_type": "markdown",
   "metadata": {
    "id": "d0d1a82c-8482-4964-b76a-329ad9516608"
   },
   "source": [
    "### 類似度: \"犬を飼っています\"と\"何かペットを飼っていますか\""
   ]
  },
  {
   "cell_type": "code",
   "execution_count": null,
   "metadata": {
    "id": "8c8cd8bd-5f05-46a8-858d-2848422f070e"
   },
   "outputs": [],
   "source": [
    "get_cossim_from_vector(vectordata_dog, vectordata_pet_question)"
   ]
  },
  {
   "cell_type": "markdown",
   "metadata": {
    "id": "dcf2f56a-a684-4a39-80b1-cd540b2b7b88"
   },
   "source": [
    "### 類似度: \"猫を飼っています\"と\"何かペットを飼っていますか\""
   ]
  },
  {
   "cell_type": "code",
   "execution_count": null,
   "metadata": {
    "id": "cba7f7bf-cd59-4d2d-918a-2206cf8333bf"
   },
   "outputs": [],
   "source": [
    "get_cossim_from_vector(vectordata_cat, vectordata_pet_question)"
   ]
  },
  {
   "cell_type": "markdown",
   "metadata": {
    "id": "1c4b55ef-97c8-4182-a28e-51855bfe0070"
   },
   "source": [
    "### 類似度: \"大根を買っています\"と\"何かペットを飼っていますか\""
   ]
  },
  {
   "cell_type": "code",
   "execution_count": null,
   "metadata": {
    "id": "079680ef-54c5-448f-9bf5-902fe7c09369"
   },
   "outputs": [],
   "source": [
    "get_cossim_from_vector(vectordata_daikon, vectordata_pet_question)"
   ]
  },
  {
   "cell_type": "markdown",
   "metadata": {
    "id": "eb87e581-c601-4901-924b-369cde258fc7"
   },
   "source": [
    "### 類似度: \"大谷翔平の今季第1号ホームランは、2025年3月19日に東京ドームで行われたカブスとの試合でのホームランでした\"と　\"何かペットを飼っていますか\"¶"
   ]
  },
  {
   "cell_type": "code",
   "execution_count": null,
   "metadata": {
    "id": "ba599d03-f385-4223-bcd2-b56813ed1363"
   },
   "outputs": [],
   "source": [
    "get_cossim_from_vector(vectordata_ohtani, vectordata_pet_question)"
   ]
  },
  {
   "cell_type": "markdown",
   "metadata": {
    "id": "6ea2f707-b924-4b3c-85da-cd38e89f5817"
   },
   "source": [
    "### ベクトル・データーベース　 -- [ベクトル検索](https://www.ibm.com/jp-ja/think/topics/vector-search)ができるデータベース\n",
    "- \"犬を飼っています\"\n",
    "- \"猫を飼っています\"\n",
    "- \"大根を買っています\"\n",
    "- \"大谷翔平の今季第1号ホームランは、2025年3月19日に東京ドームで行われたカブスとの試合でのホームランでした。\"\n",
    "\n",
    "この中から、\"何かペットを飼っていますか\"の回答を見つけるなら、類似度の高い文章が選択すればよいはずです。\n",
    "\n",
    "ただ全部比べるのは面倒ですね　👎\n",
    "\n",
    "- \"犬を飼っています\"\n",
    "- \"猫を飼っています\"\n",
    "- \"大根を買っています\"\n",
    "- \"大谷翔平の今季第1号ホームランは、2025年3月19日に東京ドームで行われたカブスとの試合でのホームランでした。\"\n",
    "  \n",
    "という4つのベクトル化したデータがDBに入っていて、<br>\n",
    "これらから<br>\n",
    "\"何かペットを飼っていますか\"のベクトル化したデータ<br>\n",
    "に類似度が高いデータを検索できるのが<br>\n",
    "**ベクトル・データーベースです**\n"
   ]
  },
  {
   "cell_type": "markdown",
   "metadata": {
    "id": "cea613f9-27b7-4713-b295-eede8d224260"
   },
   "source": [
    "# 3. watsonx.data Milvusにデータを入れ類似検索を見てみよう \n",
    "\n",
    "以下の4つの文章のベクトルデータをwatsonx.data Milvusに入れて、類似検索してみます\n",
    "- \"犬を飼っています\"\n",
    "- \"猫を飼っています\"\n",
    "- \"大根を買っています\"\n",
    "- \"大谷翔平の今季第1号ホームランは、2025年3月19日に東京ドームで行われたカブスとの試合でのホームランでした\""
   ]
  },
  {
   "cell_type": "markdown",
   "metadata": {},
   "source": [
    "## watsonx.data Milvusへの接続情報の設定\n",
    "\n",
    "watsonx.data Milvusへの接続情報を取得し、設定します\n",
    "\n",
    "参考: \n",
    "- Milvus接続情報の詳細取得手順は[こちら](https://github.com/IBM/japan-technology/tree/main/techxchange/2024-watsonx-handson-1/watsonx_data_get_milvus_info.md) を参照してください。\n",
    "- my_connection_argsに設定するkeyの詳細は[pymilvusのMilvusClientのパラメータ](https://milvus.io/api-reference/pymilvus/v2.5.x/MilvusClient/Client/MilvusClient.md)を参照してください。\n",
    "\n"
   ]
  },
  {
   "cell_type": "code",
   "execution_count": null,
   "metadata": {},
   "outputs": [],
   "source": [
    "milvus_host=input(\"milvus GRPC ホストを入れてEnter Keyを押してください: \")\n",
    "milvus_port=input(\"milvus GRPC ポートを入れてEnter Keyを押してください: \")"
   ]
  },
  {
   "cell_type": "code",
   "execution_count": null,
   "metadata": {},
   "outputs": [],
   "source": [
    "milvus_apikey = getpass.getpass(\"apikeyを入れてEnter Keyを押してください:\")"
   ]
  },
  {
   "cell_type": "code",
   "execution_count": null,
   "metadata": {
    "id": "8c273acb-469c-44da-bf17-bd4c31bf784a"
   },
   "outputs": [],
   "source": [
    "# Milvus接続情報パラメータののセット\n",
    "my_connection_args ={\n",
    " 'uri': f'https://{milvus_host}:{milvus_port}', \n",
    " 'token': f'ibmlhapikey:{milvus_apikey}'\n",
    "}"
   ]
  },
  {
   "cell_type": "markdown",
   "metadata": {
    "id": "a7446778-f7e0-47c9-ba9c-0d4de6de638f"
   },
   "source": [
    "## コレクションの作成\n",
    "\n",
    "###  まずはwatsonx.dataのMilvusに接続します\n",
    "\n",
    "接続情報の取得方法:[watsonx.data: Milvus接続情報の取得](https://qiita.com/nishikyon/items/e25d426cf8990991a159)\n",
    "\n",
    "参考:[MilvusClient](https://milvus.io/api-reference/pymilvus/v2.4.x/MilvusClient/Client/MilvusClient.md)"
   ]
  },
  {
   "cell_type": "code",
   "execution_count": null,
   "metadata": {
    "id": "d79e0ca0-98f9-4300-b501-1a672cae55b6"
   },
   "outputs": [],
   "source": [
    "from pymilvus import MilvusClient, DataType\n",
    "\n",
    "client = MilvusClient(\n",
    "    uri=my_connection_args['uri'],\n",
    "    token=my_connection_args['token']\n",
    ")"
   ]
  },
  {
   "cell_type": "markdown",
   "metadata": {
    "id": "fa6a5bd7-7f02-4e15-9740-2d1f70557bc2"
   },
   "source": [
    "### コレクション(≒RDBでいうテーブル) のスキーマを設定します\n",
    "\n",
    "参考: https://milvus.io/docs/ja/create-collection.md#Create-Schema\n",
    "\n",
    "以下のように設定します\n",
    "\n",
    "| Field        | Type              |Primary | \n",
    "|--------------|-------------------|----------|\n",
    "| id           | Int64             | Yes        |\n",
    "| text         | VarChar(512)      | --       |\n",
    "| vector  | FloatVector(768) | --      | --      | \n"
   ]
  },
  {
   "cell_type": "code",
   "execution_count": null,
   "metadata": {
    "id": "c0303b50-0105-45bf-a448-2cf9cee2782c"
   },
   "outputs": [],
   "source": [
    "# Create schema\n",
    "schema = MilvusClient.create_schema(\n",
    "    auto_id=False\n",
    ")\n",
    "\n",
    "# 3.2. Add fields to schema\n",
    "schema.add_field(field_name=\"id\", datatype=DataType.INT64, is_primary=True)\n",
    "schema.add_field(field_name=\"text\", datatype=DataType.VARCHAR, max_length=512)\n",
    "schema.add_field(field_name=\"vector\", datatype=DataType.FLOAT_VECTOR, dim=768)"
   ]
  },
  {
   "cell_type": "markdown",
   "metadata": {
    "id": "656dc7ab-f6bd-42b2-8666-dd3fafef7cf5"
   },
   "source": [
    "### インデックスを設定します\n",
    "\n",
    "参考: \n",
    "- https://milvus.io/docs/ja/create-collection.md#Optional-Set-Index-Parameters\n",
    "- [add_index()](https://milvus.io/api-reference/pymilvus/v2.4.x/MilvusClient/Management/add_index.md#addindex)\n",
    "  \n",
    "\n",
    "以下のように設定します\n",
    "\n",
    "| Field        | Type              |  Index Name   | Index Type  | Index Parameters       |\n",
    "|--------------|-------------------|--------------|-------------|------------------------|\n",
    "| id           | Int64             | --           | --   | --                     |\n",
    "| text         | VarChar(512)      |  --           |--           | --                     |\n",
    "| vector  | FloatVector(768) |  vector_data  | HNSW   | metric_type: COSINE    |"
   ]
  },
  {
   "cell_type": "code",
   "execution_count": null,
   "metadata": {
    "id": "4505e3c2-43a7-418f-a614-2a1365e607c3"
   },
   "outputs": [],
   "source": [
    "# Prepare index parameters\n",
    "index_params = client.prepare_index_params()\n",
    "\n",
    "index_params.add_index(\n",
    "    field_name=\"vector\", \n",
    "    index_type=\"HNSW\",\n",
    "    metric_type=\"COSINE\"\n",
    ")"
   ]
  },
  {
   "cell_type": "markdown",
   "metadata": {
    "id": "cd741889-9368-4bd4-8928-9b82de3ad91f"
   },
   "source": [
    "### コレクションを作成します\n",
    "\n",
    "参考: \n",
    "- https://milvus.io/docs/ja/create-collection.md#Create-a-Collection\n",
    "- [create_collection()](https://milvus.io/api-reference/pymilvus/v2.4.x/MilvusClient/Collections/create_collection.md)"
   ]
  },
  {
   "cell_type": "code",
   "execution_count": null,
   "metadata": {
    "id": "88162947-c4c6-44f2-ac2d-e31f4938be45"
   },
   "outputs": [],
   "source": [
    "collection_name=\"dojo_pet_data\"\n",
    "\n",
    "if client.has_collection(collection_name=collection_name):\n",
    "    client.drop_collection(collection_name=collection_name)\n",
    "\n",
    "client.create_collection(\n",
    "    collection_name=collection_name,\n",
    "    schema=schema,\n",
    "    index_params=index_params\n",
    ")\n",
    "\n",
    "res = client.get_load_state(\n",
    "    collection_name=collection_name\n",
    ")\n",
    "\n",
    "print(res)"
   ]
  },
  {
   "cell_type": "markdown",
   "metadata": {
    "id": "eb700cfb-eccf-45e3-96f7-cd02b1324daa"
   },
   "source": [
    "## コレクションをAttuで確認\n",
    "参考:\n",
    "- [Attu](https://github.com/zilliztech/attu)\n",
    "- Attu の導入方法: [Milvusのグラフィカルな管理ツール AttuをMacに導入してみた](https://qiita.com/nishikyon/items/addf2689812a2d9eb8e3)"
   ]
  },
  {
   "cell_type": "markdown",
   "metadata": {},
   "source": [
    "## データの挿入"
   ]
  },
  {
   "cell_type": "markdown",
   "metadata": {
    "id": "e42cdb2c-b0e0-4997-a517-889a4a296750"
   },
   "source": [
    "#### データをINSERTします\n",
    "\n",
    "参考: https://milvus.io/docs/ja/insert-update-delete.md#Insert-Entities-into-a-Collection"
   ]
  },
  {
   "cell_type": "code",
   "execution_count": null,
   "metadata": {
    "id": "3a59cc9a-6a32-45ad-834f-0eb19d1fbac0"
   },
   "outputs": [],
   "source": [
    "data=[\n",
    "    {\"id\": 1, \"text\":\"犬を飼っています\", \"vector\": vectordata_dog}, \n",
    "    {\"id\": 2, \"text\":\"猫を飼っています\", \"vector\": vectordata_cat},\n",
    "    {\"id\": 3, \"text\":\"大根を買っています\", \"vector\": vectordata_daikon},\n",
    "    {\"id\": 4, \"text\":\"大谷翔平の今季第1号ホームランは、2025年3月19日に東京ドームで行われたカブスとの試合でのホームランでした。\", \"vector\": vectordata_ohtani}\n",
    "]"
   ]
  },
  {
   "cell_type": "code",
   "execution_count": null,
   "metadata": {
    "id": "a66f5c07-02e9-4621-be83-b72234c84eb1"
   },
   "outputs": [],
   "source": [
    "res = client.insert(\n",
    "    collection_name=\"dojo_pet_data\",\n",
    "    data=data\n",
    ")\n",
    "\n",
    "print(res)"
   ]
  },
  {
   "cell_type": "markdown",
   "metadata": {
    "id": "bc2e1c34-5f49-422b-9b05-f2b8c536f083"
   },
   "source": [
    "## データがどのようにはいったかAttuで確認 \n",
    "参考:\n",
    "- [Attu](https://github.com/zilliztech/attu)\n",
    "- Attu の導入方法: [Milvusのグラフィカルな管理ツール AttuをMacに導入してみた](https://qiita.com/nishikyon/items/addf2689812a2d9eb8e3)"
   ]
  },
  {
   "cell_type": "markdown",
   "metadata": {
    "id": "7d9be64a-4b4a-4549-a30a-a4cb449f525a"
   },
   "source": [
    "## 類似検索 \n",
    "\n"
   ]
  },
  {
   "cell_type": "markdown",
   "metadata": {},
   "source": [
    "### \"何かペットを飼っていますか\"のベクトル・データで類似検索"
   ]
  },
  {
   "cell_type": "code",
   "execution_count": null,
   "metadata": {
    "id": "99b508c3-624f-4aeb-9626-52905836d937"
   },
   "outputs": [],
   "source": [
    "search_params = {\n",
    "    \"metric_type\": \"COSINE\",\n",
    "    \"params\": {}\n",
    "}\n",
    "\n",
    "# Search with limit\n",
    "search_str=\"何かペットを飼っていますか\"\n",
    "res = client.search(\n",
    "    collection_name=\"dojo_pet_data\",\n",
    "    data= [embeddings.embed_query(search_str)],\n",
    "    # limit=3,\n",
    "    output_fields=[\"text\"],\n",
    "    search_params=search_params\n",
    ")\n",
    "\n",
    "# 結果のPrint\n",
    "for hits in res:\n",
    "    for hit in hits:\n",
    "        print(hit)"
   ]
  },
  {
   "cell_type": "markdown",
   "metadata": {},
   "source": [
    "### \"大谷翔平情報教えて\"のベクトル・データで類似検索"
   ]
  },
  {
   "cell_type": "code",
   "execution_count": null,
   "metadata": {},
   "outputs": [],
   "source": [
    "search_str=\"大谷翔平情報教えて\"\n",
    "res = client.search(\n",
    "    collection_name=\"dojo_pet_data\",\n",
    "    data= [embeddings.embed_query(search_str)],\n",
    "    # limit=3,\n",
    "    output_fields=[\"text\"],\n",
    "    search_params=search_params\n",
    ")\n",
    "\n",
    "# 結果のPrint\n",
    "for hits in res:\n",
    "    for hit in hits:\n",
    "        print(hit)"
   ]
  },
  {
   "cell_type": "markdown",
   "metadata": {},
   "source": [
    "### Demoは以上です"
   ]
  }
 ],
 "metadata": {
  "kernelspec": {
   "display_name": ".venv",
   "language": "python",
   "name": "python3"
  },
  "language_info": {
   "codemirror_mode": {
    "name": "ipython",
    "version": 3
   },
   "file_extension": ".py",
   "mimetype": "text/x-python",
   "name": "python",
   "nbconvert_exporter": "python",
   "pygments_lexer": "ipython3",
   "version": "3.11.4"
  }
 },
 "nbformat": 4,
 "nbformat_minor": 4
}
