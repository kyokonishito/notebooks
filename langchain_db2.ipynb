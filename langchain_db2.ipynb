{
 "cells": [
  {
   "cell_type": "markdown",
   "metadata": {
    "collapsed": true,
    "id": "c6534bf2-038b-476a-97d3-c3e3a132d592",
    "jupyter": {
     "outputs_hidden": true
    }
   },
   "source": [
    "# Db2 v12.1.2でベクトルデータが入るようになったので、langchainから使ってみた\n",
    "https://qiita.com/nishikyon/items/c84db0f885dcf9609276"
   ]
  },
  {
   "cell_type": "markdown",
   "metadata": {
    "id": "b5ee9c23-bc39-4e4e-815e-23d0fa5a6c50"
   },
   "source": [
    "# 1. Excelをベクトル化してlangchainでDb2に入れよう！\n",
    "\n",
    "### 1. 必要なライブラリーのインストール\n",
    "(環境によって他に不足ライブラリがあれば適時インストールしてください）"
   ]
  },
  {
   "cell_type": "code",
   "execution_count": null,
   "metadata": {
    "id": "d1ceb9bd-a02d-46f8-af4a-6e3750e4a9a7"
   },
   "outputs": [],
   "source": [
    "# 既にインストール済みであればはこのコードの実行は不要です\n",
    "!pip install langchain-db2\n",
    "!pip install ibm_db\n",
    "!pip install ibm_db_sa sqlalchemy\n",
    "!pip install langchain-huggingface\n",
    "!pip install sentence_transformers\n",
    "!pip install tqdm"
   ]
  },
  {
   "cell_type": "markdown",
   "metadata": {
    "id": "3e1a884c-ba57-4695-aaee-ef62039f13ef"
   },
   "source": [
    "### 2. Db2接続情報の設定とDb2への接続\n",
    "`<XXXX>`を接続先のDb2環境の値に設定してください。\n",
    "SSL接続の場合はdsn内のコメントを外してください。"
   ]
  },
  {
   "cell_type": "code",
   "execution_count": null,
   "metadata": {
    "id": "38052725-a88c-489e-abae-fd5533c29c64"
   },
   "outputs": [],
   "source": [
    "import ibm_db\n",
    "import ibm_db_dbi\n",
    "\n",
    "database = \"<database名>\"\n",
    "username = \"<userid>\"\n",
    "password = \"<password>\"\n",
    "hostname = \"<hostname>\"\n",
    "port = \"<port番号>\"\n",
    "\n",
    "dsn = (\n",
    "    f\"DATABASE={database};\"\n",
    "    f\"HOSTNAME={hostname};\"\n",
    "    f\"PORT={port};\"\n",
    "    f\"PROTOCOL=TCPIP;\"\n",
    "    f\"UID={username};\"\n",
    "    f\"PWD={password};\"\n",
    "    # \"SECURITY=SSL;\"  # SSL接続の場合はコメントをはずす\n",
    ")\n",
    "\n",
    "# Db2への接続\n",
    "try:\n",
    "    # Connect using DSN string\n",
    "    conn = ibm_db.connect(dsn, \"\", \"\")\n",
    "    connection = ibm_db_dbi.Connection(conn)\n",
    "    print(\"Connection successful!\")\n",
    "except Exception as e:\n",
    "    print(\"Connection failed!\", e)"
   ]
  },
  {
   "cell_type": "markdown",
   "metadata": {
    "id": "fffa3d5b-58c2-4558-8561-b7186d9e007f"
   },
   "source": [
    "### 3. 必要ライブラリーのImport"
   ]
  },
  {
   "cell_type": "code",
   "execution_count": null,
   "metadata": {
    "id": "ff161ed5-6207-48bd-bb26-64b3c9b986c7"
   },
   "outputs": [],
   "source": [
    "import pandas as pd\n",
    "import json\n",
    "\n",
    "#from langchain_community.embeddings import HuggingFaceEmbeddings\n",
    "from langchain_huggingface import HuggingFaceEmbeddings\n",
    "from tqdm import tqdm\n",
    "from langchain_community.vectorstores.utils import DistanceStrategy\n",
    "from langchain_core.documents import Document\n",
    "\n",
    "# from langchain_db2 import db2vs\n",
    "from langchain_db2.db2vs import DB2VS"
   ]
  },
  {
   "cell_type": "markdown",
   "metadata": {
    "id": "92ef37f8-b1b8-44d8-b7ad-12cb8145697c"
   },
   "source": [
    "### 4. ベクトル化するデータの作成\n",
    "#### 4-1. Excelデータの取得 "
   ]
  },
  {
   "cell_type": "code",
   "execution_count": null,
   "metadata": {
    "id": "2ee3669e-8945-44b9-b18a-1c7ebb18c086"
   },
   "outputs": [],
   "source": [
    "!wget https://github.com/IBM/japan-technology/raw/refs/heads/main/techxchange/2024-watsonx-handson-1/data/TechXchangeJapan2024.xlsx -O TechXchangeJapan2024.xlsx"
   ]
  },
  {
   "cell_type": "markdown",
   "metadata": {
    "id": "075f4416-6159-4934-8c9e-1d0e2697141e"
   },
   "source": [
    "#### 4-2. Excelファイルの内容を pandas.DataFrameに読み込む"
   ]
  },
  {
   "cell_type": "code",
   "execution_count": null,
   "metadata": {
    "id": "63b50773-fcde-4e69-8acb-af193b799ff0"
   },
   "outputs": [],
   "source": [
    "path=\"./\"\n",
    "filename='TechXchangeJapan2024.xlsx'\n",
    "excel_file = path+filename\n",
    "\n",
    "df_list = []\n",
    "\n",
    "# 全てのシートを読み込み、リストdf_listに格納\n",
    "for sheet_name in pd.ExcelFile(excel_file).sheet_names:\n",
    "    df = pd.read_excel(excel_file, sheet_name=sheet_name)\n",
    "\n",
    "    # Db2のlangchainではidは小文字が必須のため、ここで小文字変換しておく\n",
    "    df.rename(columns={'ID': 'id'}, inplace=True)\n",
    "    \n",
    "    df_list.append(df)\n",
    "    print(f\"\\nExcelシート名: {sheet_name}\")\n",
    "    display(df.head()) #各シート最初の5　行　表示"
   ]
  },
  {
   "cell_type": "markdown",
   "metadata": {
    "id": "c2c7b868-b876-4ceb-adc6-d20c700b36b9"
   },
   "source": [
    "#### 4-3. 行をJSON化し、metadataとして`Category`,`id`を抜き出す"
   ]
  },
  {
   "cell_type": "code",
   "execution_count": null,
   "metadata": {
    "id": "46821d00-0886-41d3-9b08-9ccf35eb0f20"
   },
   "outputs": [],
   "source": [
    "json_doc_list=[]\n",
    "json_meta_list=[]\n",
    "\n",
    "for df in df_list:\n",
    "    # 各シートのデータフレームに対する処理\n",
    "    \n",
    "    # 行をJSONフォーマットに変換\n",
    "    json_doc_string = json.loads(df.to_json(orient='records', force_ascii=False))\n",
    "   \n",
    "    # metaデータとして'Category','id'を抜き出し, JSONに変換\n",
    "    json_meta_string =  json.loads(df[['Category','id']].to_json(orient='records', force_ascii=False), parse_int=str)\n",
    "\n",
    "    # 各シートのJSON Listを1つのListに結合\n",
    "    json_doc_list.extend(json_doc_string)\n",
    "    \n",
    "    json_meta_list.extend( json_meta_string)\n",
    "\n",
    "#中身確認 最初の5行\n",
    "print(\"ベクトル化するデータ 最初の5行\")\n",
    "for index, item in enumerate(json_doc_list[0:5]):\n",
    "    print(index + 1, item)\n",
    "\n",
    "print(\"\\nmetaデータ 最初の5行\")\n",
    "for index, item in enumerate(json_meta_list[0:5]):\n",
    "    print(index + 1, item)"
   ]
  },
  {
   "cell_type": "markdown",
   "metadata": {
    "id": "b5319391-f1e9-4030-9372-eab7ac782098"
   },
   "source": [
    "#### 4-4. 1行の情報をlangchainのDocumentにし、Listを作成"
   ]
  },
  {
   "cell_type": "code",
   "execution_count": null,
   "metadata": {
    "id": "a9dbc591-3a4d-4cb7-8fab-c524f34bdaf2"
   },
   "outputs": [],
   "source": [
    "# DocumentのListをjson_doc_listとjson_meta_listから作成\n",
    "# page_contentはjson_doc_listの一行分のjson\n",
    "# metadataはjson_meta_listのの一行分のjson\n",
    "\n",
    "# 以下と同じコード\n",
    "# docs = []\n",
    "# for doc_str, meta_str in zip(json_doc_list, json_meta_list):\n",
    "#     docs.append(Document(page_content=json.dumps(doc_str, ensure_ascii=False), metadata=meta_str)) \n",
    "    \n",
    "docs = [Document(page_content=json.dumps(doc_str, ensure_ascii=False), metadata=meta_str) \n",
    "        for doc_str, meta_str in zip(json_doc_list, json_meta_list)]\n",
    "\n",
    "#中身確認 最初の二行\n",
    "print(docs[0], \"\\n\\n\")\n",
    "\n",
    "print(docs[1], \"\\n\\n\")"
   ]
  },
  {
   "cell_type": "markdown",
   "metadata": {
    "id": "2bcfa486-d455-46f1-8d63-66eae40ad1ed"
   },
   "source": [
    "### 5. Embeddingモデルを作成"
   ]
  },
  {
   "cell_type": "code",
   "execution_count": null,
   "metadata": {
    "id": "7511870f-b5e9-414b-982b-7a54c7d8d7a2"
   },
   "outputs": [],
   "source": [
    "from langchain_huggingface import HuggingFaceEmbeddings\n",
    "from tqdm.autonotebook import tqdm\n",
    "\n",
    "embeddings = HuggingFaceEmbeddings(model_name=\"intfloat/multilingual-e5-large\")"
   ]
  },
  {
   "cell_type": "markdown",
   "metadata": {
    "id": "c8e53281-4170-445f-bae7-02ac0ed86078"
   },
   "source": [
    "### 6. Db2にデータの挿入"
   ]
  },
  {
   "cell_type": "code",
   "execution_count": null,
   "metadata": {
    "id": "111f4428-95dc-4029-8434-64563a4f9956"
   },
   "outputs": [],
   "source": [
    "# vectest.techxchange_line_data に　データの挿入\n",
    "# 同じ名前のテーブルがあった場合、内容は上書きされる\n",
    "vector_store = DB2VS.from_documents(\n",
    "    docs,\n",
    "    embeddings,\n",
    "    client=connection,\n",
    "    table_name=\"vectest.techxchange_line_data\",\n",
    "    distance_strategy=DistanceStrategy.COSINE,\n",
    ")"
   ]
  },
  {
   "cell_type": "markdown",
   "metadata": {
    "id": "66989c9a-65fe-4cb6-902a-7f1926b7501a"
   },
   "source": [
    "### 7. データの追加・削除\n",
    "#### 7.1. データの追加　add_texts()使用"
   ]
  },
  {
   "cell_type": "code",
   "execution_count": null,
   "metadata": {
    "id": "1cbec602-63bd-42ee-9bce-9f23fbe69a73"
   },
   "outputs": [],
   "source": [
    "texts = [\n",
    "    '{\"Key\": \"テスト1\", \"概要\": \"テスト用の概要1です。意味はないです\", \"id\": \"概要テスト1\", \"Category\": \"概要\"}',\n",
    "    '{\"Key\": \"テスト2\", \"概要\": \"テスト用の概要2です。意味はないです\", \"id\": \"概要テスト2\", \"Category\": \"概要\"}'\n",
    "]\n",
    "         \n",
    "metadata = [\n",
    "    { \"id\": \"概要テスト1\", \"Category\": \"概要\"},\n",
    "    { \"id\": \"概要テスト2\", \"Category\": \"概要\"},\n",
    "]\n",
    "\n",
    "vector_store.add_texts(texts, metadata)"
   ]
  },
  {
   "cell_type": "markdown",
   "metadata": {
    "id": "3c523a7c-4fd3-4535-b690-a08287fdd475"
   },
   "source": [
    "#### 7.2 データの追加　add_documents()使用"
   ]
  },
  {
   "cell_type": "code",
   "execution_count": null,
   "metadata": {
    "id": "f435a5c0-dcde-4100-8510-fbe730b1141c"
   },
   "outputs": [],
   "source": [
    "texts = [\n",
    "    {\"Key\": \"テスト1doc\", \"概要\": \"テスト用の概要1です。意味はないです\", \"id\": \"概要テスト1\", \"Category\": \"概要\"},\n",
    "    {\"Key\": \"テスト2doc\", \"概要\": \"テスト用の概要2です。意味はないです\", \"id\": \"概要テスト2\", \"Category\": \"概要\"}\n",
    "]\n",
    "         \n",
    "metadata = [\n",
    "    { \"id\": \"概要テスト1doc\", \"Category\": \"概要\"},\n",
    "    { \"id\": \"概要テスト2doc\", \"Category\": \"概要\"},\n",
    "]\n",
    "\n",
    "docs_add = [Document(page_content=json.dumps(doc_str, ensure_ascii=False), metadata=meta_str) \n",
    "        for doc_str, meta_str in zip(texts, metadata)]\n",
    "\n",
    "vector_store.add_documents(docs_add)"
   ]
  },
  {
   "cell_type": "markdown",
   "metadata": {
    "id": "379a6118-45da-4f5b-87af-b6af4b7ee284"
   },
   "source": [
    "#### 7.3 データの削除 delete()"
   ]
  },
  {
   "cell_type": "code",
   "execution_count": null,
   "metadata": {
    "id": "c843d00b-0519-419d-803a-5bfa9eedc3d4"
   },
   "outputs": [],
   "source": [
    "vector_store.delete(['概要テスト1', '概要テスト2', '概要テスト1doc', '概要テスト2doc'])"
   ]
  },
  {
   "cell_type": "markdown",
   "metadata": {
    "id": "edc415fd-6e1e-4d0b-b869-a8e5f2779701"
   },
   "source": [
    "### 8. 挿入データの確認"
   ]
  },
  {
   "cell_type": "code",
   "execution_count": null,
   "metadata": {
    "id": "d73efff0-ac1c-4699-a0ee-722c55261059"
   },
   "outputs": [],
   "source": [
    "from sqlalchemy import create_engine\n",
    "from urllib.parse import quote_plus\n",
    "\n",
    "# DB2の接続情報を設定\n",
    "password_q = quote_plus(password)\n",
    "\n",
    "# SQLAlchemyのエンジンを作成　　SSLが必要な場合は最後にSECURITY=SSL;をつける\n",
    "url = f\"ibm_db_sa://{username}:{password_q}@{hostname}:{port}/{database};\"\n",
    "# SSLが必要な場合\n",
    "# url = f\"ibm_db_sa://{username}:{password_q}@{hostname}:{port}/{database};SECURITY=SSL;\"\n",
    "engine = create_engine(url)\n",
    "\n",
    "sql_str = \"\"\"\n",
    "SELECT ID, TEXT,\n",
    "SYSTOOLS.BSON2JSON(METADATA) METADATA, \n",
    "VECTOR_SERIALIZE(EMBEDDING) EMBEDDING\n",
    "FROM VECTEST.TECHXCHANGE_LINE_DATA\n",
    "\"\"\"\n",
    "\n",
    "# pandas.read_sql() を使用してpandas Dataframe型のdf_vecにSELECTの結果を入れる\n",
    "df_vec = pd.read_sql(sql_str, engine)\n",
    "\n",
    "# notebookの場合は以下で表示できます\n",
    "df_vec"
   ]
  },
  {
   "cell_type": "markdown",
   "metadata": {
    "id": "7d409792-1c12-4b2c-8f43-373de8503697"
   },
   "source": [
    "# 2. langchainでDb2にいれたデータを類似検索してみよう！\n",
    "\n",
    "1に引き続き実行する場合は既にvector_storeは取得済みです。「2-1. similarity_search: オプションなし デフォルト」に進んでください。\n",
    "\n",
    "ここから新たに実行する場合は以下でvector_storeを取得してください:\n",
    "- connectionは「2. Db2接続情報の設定とDb2への接続」の方法で事前に作成してください。\n",
    "その後以下のコードでlangchainのvector_storeを作成します。"
   ]
  },
  {
   "cell_type": "code",
   "execution_count": null,
   "metadata": {
    "id": "c0d3efe5-648b-4673-a93d-7056ef225bda"
   },
   "outputs": [],
   "source": [
    "# ここから新たに実行する場合のみ実行する\n",
    "vector_store = DB2VS(\n",
    "    embeddings,\n",
    "    table_name=\"vectest.techxchange_line_data\",\n",
    "    client=connection,\n",
    "    distance_strategy=DistanceStrategy.COSINE,\n",
    ")"
   ]
  },
  {
   "cell_type": "markdown",
   "metadata": {
    "id": "3524e8e8-2210-4917-bc60-c415c9b66826"
   },
   "source": [
    "### 2-1. similarity_search: オプションなし デフォルト"
   ]
  },
  {
   "cell_type": "code",
   "execution_count": null,
   "metadata": {
    "id": "6b06ea97-5b69-4912-9b0e-d6194046d54f"
   },
   "outputs": [],
   "source": [
    "# オプションなし\n",
    "query = \"IBM TechXchange Japanとは?\"\n",
    "docs = vector_store.similarity_search(query)\n",
    "\n",
    "for doc in docs:\n",
    "    print({\"content\": doc.page_content[0:100], \"metadata\": doc.metadata} )\n",
    "    print(\"---------\")"
   ]
  },
  {
   "cell_type": "markdown",
   "metadata": {
    "id": "30337125-1a3b-4209-88cc-d7da7819e728"
   },
   "source": [
    "### 2-2. similarity_search: 結果の取得数をkで指定(デフォルトは4)"
   ]
  },
  {
   "cell_type": "code",
   "execution_count": null,
   "metadata": {
    "id": "7fe91afc-2c99-4182-8c2c-b8281a744ece"
   },
   "outputs": [],
   "source": [
    "# 結果の取得数をkで指定(デフォルトは4)\n",
    "\n",
    "docs = vector_store.similarity_search(query, k=10)\n",
    "\n",
    "for doc in docs:\n",
    "    print({\"content\": doc.page_content[0:100], \"metadata\": doc.metadata} )\n",
    "    print(\"---------\")"
   ]
  },
  {
   "cell_type": "markdown",
   "metadata": {
    "id": "d755f122-be32-4e95-9347-82fca03057e5"
   },
   "source": [
    "### 2-3. similarity_search_with_score: スコアも一緒に出力"
   ]
  },
  {
   "cell_type": "code",
   "execution_count": null,
   "metadata": {
    "id": "c03d732e-b8f7-4805-aa3a-a171504ef74d"
   },
   "outputs": [],
   "source": [
    "# スコアも一緒に出してみます\n",
    "# スコアはコサイン距離の場合は、0に近いほど類似度が高いです。\n",
    "\n",
    "docs = vector_store.similarity_search_with_score(query, k=10)\n",
    "for doc, score in docs:\n",
    "    print({\"score\": score, \"content\": doc.page_content[0:100], \"metadata\": doc.metadata} )\n",
    "    print(\"---------\")"
   ]
  },
  {
   "cell_type": "markdown",
   "metadata": {
    "id": "84f249e2-2d2f-4b70-9dc3-c79e93d2bf2a"
   },
   "source": [
    "### 2-4. similarity_search_with_score filterオプション: 'Category': '概要'　でフィルター"
   ]
  },
  {
   "cell_type": "code",
   "execution_count": null,
   "metadata": {
    "id": "7453a826-8e1d-49fc-9003-da0c0c1296a9"
   },
   "outputs": [],
   "source": [
    "# 'Category': '概要'　でフィルターしてみます\n",
    "filter_criteria = {\"Category\": [\"概要\"]}\n",
    "docs = vector_store.similarity_search_with_score(query, k=10, filter=filter_criteria)\n",
    "for doc, score in docs:\n",
    "    print({\"score\": score, \"content\": doc.page_content[0:100], \"metadata\": doc.metadata} )\n",
    "    print(\"---------\")"
   ]
  }
 ],
 "metadata": {
  "kernelspec": {
   "display_name": "Python 3.11",
   "language": "python",
   "name": "python3"
  },
  "language_info": {
   "codemirror_mode": {
    "name": "ipython",
    "version": 3
   },
   "file_extension": ".py",
   "mimetype": "text/x-python",
   "name": "python",
   "nbconvert_exporter": "python",
   "pygments_lexer": "ipython3",
   "version": "3.11.13"
  }
 },
 "nbformat": 4,
 "nbformat_minor": 4
}
